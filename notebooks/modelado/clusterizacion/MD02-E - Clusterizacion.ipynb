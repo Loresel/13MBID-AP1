{
 "cells": [
  {
   "cell_type": "markdown",
   "metadata": {},
   "source": [
    "## Máster en Big Data y Data Science\n",
    "\n",
    "### Metodologías de gestión y diseño de proyectos de big data\n",
    "\n",
    "#### AP2 - Descubrimiento de grupos en los datos\n",
    "\n",
    "---\n",
    "\n",
    "En esta libreta se generan los modelos de clusterización sobre el dataset final del escenario para su posterior evaluación y análisis. Se utilizará como herramienta de soporte a mlflow para el registro completo de la experimentación. \n",
    "\n",
    "---"
   ]
  },
  {
   "cell_type": "code",
   "execution_count": 17,
   "metadata": {},
   "outputs": [],
   "source": [
    "# Importación de librerías\n",
    "\n",
    "import pandas as pd\n",
    "# Se importa mlflow para registro de la experimentación \n",
    "import mlflow\n",
    "# Se importan los métodos a utilizar para clusterizar\n",
    "from sklearn.cluster import DBSCAN, KMeans, AgglomerativeClustering, MeanShift, SpectralClustering, AffinityPropagation, BisectingKMeans\n",
    "# Se importan las métricas a utilizar para evaluar el proceso\n",
    "from sklearn.metrics import silhouette_score, davies_bouldin_score, calinski_harabasz_score\n",
    "from sklearn.mixture import GaussianMixture\n"
   ]
  },
  {
   "cell_type": "markdown",
   "metadata": {},
   "source": [
    "----\n",
    "\n",
    "##### Lectura del dataset"
   ]
  },
  {
   "cell_type": "code",
   "execution_count": 6,
   "metadata": {},
   "outputs": [
    {
     "data": {
      "text/html": [
       "<div>\n",
       "<style scoped>\n",
       "    .dataframe tbody tr th:only-of-type {\n",
       "        vertical-align: middle;\n",
       "    }\n",
       "\n",
       "    .dataframe tbody tr th {\n",
       "        vertical-align: top;\n",
       "    }\n",
       "\n",
       "    .dataframe thead th {\n",
       "        text-align: right;\n",
       "    }\n",
       "</style>\n",
       "<table border=\"1\" class=\"dataframe\">\n",
       "  <thead>\n",
       "    <tr style=\"text-align: right;\">\n",
       "      <th></th>\n",
       "      <th>edad</th>\n",
       "      <th>importe_solicitado</th>\n",
       "      <th>duracion_credito</th>\n",
       "      <th>antiguedad_empleado</th>\n",
       "      <th>ingresos</th>\n",
       "      <th>pct_ingreso</th>\n",
       "      <th>tasa_interes</th>\n",
       "      <th>estado_credito</th>\n",
       "      <th>antiguedad_cliente</th>\n",
       "      <th>gastos_ult_12m</th>\n",
       "      <th>...</th>\n",
       "      <th>estado_cliente_ACTIVO</th>\n",
       "      <th>estado_cliente_PASIVO</th>\n",
       "      <th>genero_F</th>\n",
       "      <th>genero_M</th>\n",
       "      <th>nivel_educativo_DESCONOCIDO</th>\n",
       "      <th>nivel_educativo_POSGRADO_COMPLETO</th>\n",
       "      <th>nivel_educativo_POSGRADO_INCOMPLETO</th>\n",
       "      <th>nivel_educativo_SECUNDARIO_COMPLETO</th>\n",
       "      <th>nivel_educativo_UNIVERSITARIO_COMPLETO</th>\n",
       "      <th>nivel_educativo_UNIVERSITARIO_INCOMPLETO</th>\n",
       "    </tr>\n",
       "  </thead>\n",
       "  <tbody>\n",
       "    <tr>\n",
       "      <th>0</th>\n",
       "      <td>22</td>\n",
       "      <td>35000</td>\n",
       "      <td>3</td>\n",
       "      <td>123.0</td>\n",
       "      <td>59000</td>\n",
       "      <td>0.59</td>\n",
       "      <td>16.02</td>\n",
       "      <td>1</td>\n",
       "      <td>36.0</td>\n",
       "      <td>1088.0</td>\n",
       "      <td>...</td>\n",
       "      <td>True</td>\n",
       "      <td>False</td>\n",
       "      <td>False</td>\n",
       "      <td>True</td>\n",
       "      <td>False</td>\n",
       "      <td>False</td>\n",
       "      <td>False</td>\n",
       "      <td>False</td>\n",
       "      <td>True</td>\n",
       "      <td>False</td>\n",
       "    </tr>\n",
       "    <tr>\n",
       "      <th>1</th>\n",
       "      <td>21</td>\n",
       "      <td>1000</td>\n",
       "      <td>2</td>\n",
       "      <td>5.0</td>\n",
       "      <td>9600</td>\n",
       "      <td>0.10</td>\n",
       "      <td>11.14</td>\n",
       "      <td>0</td>\n",
       "      <td>39.0</td>\n",
       "      <td>1144.0</td>\n",
       "      <td>...</td>\n",
       "      <td>True</td>\n",
       "      <td>False</td>\n",
       "      <td>False</td>\n",
       "      <td>True</td>\n",
       "      <td>False</td>\n",
       "      <td>False</td>\n",
       "      <td>False</td>\n",
       "      <td>True</td>\n",
       "      <td>False</td>\n",
       "      <td>False</td>\n",
       "    </tr>\n",
       "    <tr>\n",
       "      <th>2</th>\n",
       "      <td>23</td>\n",
       "      <td>35000</td>\n",
       "      <td>2</td>\n",
       "      <td>4.0</td>\n",
       "      <td>65500</td>\n",
       "      <td>0.53</td>\n",
       "      <td>15.23</td>\n",
       "      <td>1</td>\n",
       "      <td>36.0</td>\n",
       "      <td>1887.0</td>\n",
       "      <td>...</td>\n",
       "      <td>True</td>\n",
       "      <td>False</td>\n",
       "      <td>False</td>\n",
       "      <td>True</td>\n",
       "      <td>False</td>\n",
       "      <td>False</td>\n",
       "      <td>False</td>\n",
       "      <td>False</td>\n",
       "      <td>True</td>\n",
       "      <td>False</td>\n",
       "    </tr>\n",
       "    <tr>\n",
       "      <th>3</th>\n",
       "      <td>24</td>\n",
       "      <td>35000</td>\n",
       "      <td>4</td>\n",
       "      <td>8.0</td>\n",
       "      <td>54400</td>\n",
       "      <td>0.55</td>\n",
       "      <td>14.27</td>\n",
       "      <td>1</td>\n",
       "      <td>54.0</td>\n",
       "      <td>1314.0</td>\n",
       "      <td>...</td>\n",
       "      <td>True</td>\n",
       "      <td>False</td>\n",
       "      <td>False</td>\n",
       "      <td>True</td>\n",
       "      <td>True</td>\n",
       "      <td>False</td>\n",
       "      <td>False</td>\n",
       "      <td>False</td>\n",
       "      <td>False</td>\n",
       "      <td>False</td>\n",
       "    </tr>\n",
       "    <tr>\n",
       "      <th>4</th>\n",
       "      <td>21</td>\n",
       "      <td>2500</td>\n",
       "      <td>2</td>\n",
       "      <td>2.0</td>\n",
       "      <td>9900</td>\n",
       "      <td>0.25</td>\n",
       "      <td>7.14</td>\n",
       "      <td>1</td>\n",
       "      <td>34.0</td>\n",
       "      <td>1171.0</td>\n",
       "      <td>...</td>\n",
       "      <td>True</td>\n",
       "      <td>False</td>\n",
       "      <td>True</td>\n",
       "      <td>False</td>\n",
       "      <td>False</td>\n",
       "      <td>False</td>\n",
       "      <td>False</td>\n",
       "      <td>True</td>\n",
       "      <td>False</td>\n",
       "      <td>False</td>\n",
       "    </tr>\n",
       "  </tbody>\n",
       "</table>\n",
       "<p>5 rows × 40 columns</p>\n",
       "</div>"
      ],
      "text/plain": [
       "   edad  importe_solicitado  duracion_credito  antiguedad_empleado  ingresos  \\\n",
       "0    22               35000                 3                123.0     59000   \n",
       "1    21                1000                 2                  5.0      9600   \n",
       "2    23               35000                 2                  4.0     65500   \n",
       "3    24               35000                 4                  8.0     54400   \n",
       "4    21                2500                 2                  2.0      9900   \n",
       "\n",
       "   pct_ingreso  tasa_interes  estado_credito  antiguedad_cliente  \\\n",
       "0         0.59         16.02               1                36.0   \n",
       "1         0.10         11.14               0                39.0   \n",
       "2         0.53         15.23               1                36.0   \n",
       "3         0.55         14.27               1                54.0   \n",
       "4         0.25          7.14               1                34.0   \n",
       "\n",
       "   gastos_ult_12m  ...  estado_cliente_ACTIVO  estado_cliente_PASIVO  \\\n",
       "0          1088.0  ...                   True                  False   \n",
       "1          1144.0  ...                   True                  False   \n",
       "2          1887.0  ...                   True                  False   \n",
       "3          1314.0  ...                   True                  False   \n",
       "4          1171.0  ...                   True                  False   \n",
       "\n",
       "   genero_F  genero_M  nivel_educativo_DESCONOCIDO  \\\n",
       "0     False      True                        False   \n",
       "1     False      True                        False   \n",
       "2     False      True                        False   \n",
       "3     False      True                         True   \n",
       "4      True     False                        False   \n",
       "\n",
       "   nivel_educativo_POSGRADO_COMPLETO  nivel_educativo_POSGRADO_INCOMPLETO  \\\n",
       "0                              False                                False   \n",
       "1                              False                                False   \n",
       "2                              False                                False   \n",
       "3                              False                                False   \n",
       "4                              False                                False   \n",
       "\n",
       "   nivel_educativo_SECUNDARIO_COMPLETO  \\\n",
       "0                                False   \n",
       "1                                 True   \n",
       "2                                False   \n",
       "3                                False   \n",
       "4                                 True   \n",
       "\n",
       "   nivel_educativo_UNIVERSITARIO_COMPLETO  \\\n",
       "0                                    True   \n",
       "1                                   False   \n",
       "2                                    True   \n",
       "3                                   False   \n",
       "4                                   False   \n",
       "\n",
       "   nivel_educativo_UNIVERSITARIO_INCOMPLETO  \n",
       "0                                     False  \n",
       "1                                     False  \n",
       "2                                     False  \n",
       "3                                     False  \n",
       "4                                     False  \n",
       "\n",
       "[5 rows x 40 columns]"
      ]
     },
     "execution_count": 6,
     "metadata": {},
     "output_type": "execute_result"
    }
   ],
   "source": [
    "df = pd.read_csv(\"../../../data/final/datos_clusterizacion.csv\", sep=\";\")\n",
    "df.drop(['id_cliente'], axis=1, inplace=True)\n",
    "df.head(5)"
   ]
  },
  {
   "cell_type": "markdown",
   "metadata": {},
   "source": [
    "### Prueba # 1"
   ]
  },
  {
   "cell_type": "markdown",
   "metadata": {},
   "source": [
    "----\n",
    "\n",
    "##### Configuración de la experimentación"
   ]
  },
  {
   "cell_type": "code",
   "execution_count": 7,
   "metadata": {},
   "outputs": [],
   "source": [
    "# Se genera el experimento en mlflow\n",
    "exp_name = 'Experimentación clustering Extra #1'\n",
    "exp_id = mlflow.create_experiment(name=exp_name)"
   ]
  },
  {
   "cell_type": "code",
   "execution_count": 8,
   "metadata": {},
   "outputs": [],
   "source": [
    "# Por cada método se debe registrar la ejecución\n",
    "with mlflow.start_run(experiment_id=exp_id, run_name=\"Kmeans - K=4\"):\n",
    "    # Selección y configuración de la técnica\n",
    "    modelo_clusters = KMeans(n_clusters=4)\n",
    "    \n",
    "    trained_model = modelo_clusters.fit(df)\n",
    "    cluster_labels = trained_model.labels_\n",
    "\n",
    "    # Se realizar el cálculo de las métricas seleccionadas\n",
    "    score_s = silhouette_score(df, cluster_labels)\n",
    "    score_db = davies_bouldin_score(df, cluster_labels)\n",
    "    score_ch = calinski_harabasz_score(df, cluster_labels)\n",
    "\n",
    "    # Se registra el parámetro K\n",
    "    mlflow.log_param('Valor K', 4)\n",
    "\n",
    "    # Se registran las métricas de evaluación\n",
    "    mlflow.log_metric('silhouette_score', score_s)\n",
    "    mlflow.log_metric('davies_bouldin_score', score_db)\n",
    "    mlflow.log_metric('calinski_harabasz_score', score_ch)\n",
    "\n",
    "    # Se guarda el modelo generado\n",
    "    mlflow.sklearn.log_model(trained_model, \"Kmeans_K4\")\n",
    "\n",
    "    # Se finaliza el registro\n",
    "    mlflow.end_run()"
   ]
  },
  {
   "cell_type": "markdown",
   "metadata": {},
   "source": [
    "Para contabilizar los elementos por cluster se utilizan las labels generadas"
   ]
  },
  {
   "cell_type": "code",
   "execution_count": 9,
   "metadata": {},
   "outputs": [
    {
     "data": {
      "text/plain": [
       "cluster\n",
       "0    4190\n",
       "2    3847\n",
       "1     686\n",
       "3     162\n",
       "Name: count, dtype: int64"
      ]
     },
     "execution_count": 9,
     "metadata": {},
     "output_type": "execute_result"
    }
   ],
   "source": [
    "# Se preserva el conjunto de datos original para evitar problemas\n",
    "df_kmeans_k4 = df.copy()\n",
    "# Se agregan las labels generadas\n",
    "df_kmeans_k4['cluster'] = cluster_labels\n",
    "df_kmeans_k4['cluster'].value_counts()"
   ]
  },
  {
   "cell_type": "code",
   "execution_count": null,
   "metadata": {},
   "outputs": [],
   "source": [
    "df_kmeans_k2.to_csv(\"salidak2.csv\", sep=\";\". index=False)"
   ]
  },
  {
   "cell_type": "markdown",
   "metadata": {},
   "source": [
    "Se pasa a probar otro método (clustering jerárquico)"
   ]
  },
  {
   "cell_type": "code",
   "execution_count": 10,
   "metadata": {},
   "outputs": [
    {
     "name": "stderr",
     "output_type": "stream",
     "text": [
      "2024/07/21 18:17:43 WARNING mlflow.sklearn: Model was missing function: predict. Not logging python_function flavor!\n"
     ]
    }
   ],
   "source": [
    "# Por cada método se debe registrar la ejecución\n",
    "with mlflow.start_run(experiment_id=exp_id, run_name=\"AGClustering - K=4\"):\n",
    "    # Selección y configuración de la técnica\n",
    "    modelo_clusters = AgglomerativeClustering(n_clusters=4)\n",
    "    \n",
    "    trained_model = modelo_clusters.fit(df)\n",
    "    cluster_labels = trained_model.labels_\n",
    "\n",
    "    # Se realizar el cálculo de las métricas seleccionadas\n",
    "    score_s = silhouette_score(df, cluster_labels)\n",
    "    score_db = davies_bouldin_score(df, cluster_labels)\n",
    "    score_ch = calinski_harabasz_score(df, cluster_labels)\n",
    "\n",
    "    # Se registra el parámetro K\n",
    "    mlflow.log_param('Valor K', 4)\n",
    "\n",
    "    # Se registran las métricas de evaluación\n",
    "    mlflow.log_metric('silhouette_score', score_s)\n",
    "    mlflow.log_metric('davies_bouldin_score', score_db)\n",
    "    mlflow.log_metric('calinski_harabasz_score', score_ch)\n",
    "\n",
    "    # Se guarda el modelo generado\n",
    "    mlflow.sklearn.log_model(trained_model, \"AGC_K4\")\n",
    "\n",
    "    # Se finaliza el registro\n",
    "    mlflow.end_run()"
   ]
  },
  {
   "cell_type": "markdown",
   "metadata": {},
   "source": [
    "Para contabilizar los elementos por cluster se utilizan las labels generadas"
   ]
  },
  {
   "cell_type": "code",
   "execution_count": 11,
   "metadata": {},
   "outputs": [
    {
     "data": {
      "text/plain": [
       "cluster\n",
       "0    4697\n",
       "2    3817\n",
       "1     307\n",
       "3      64\n",
       "Name: count, dtype: int64"
      ]
     },
     "execution_count": 11,
     "metadata": {},
     "output_type": "execute_result"
    }
   ],
   "source": [
    "# Se preserva el conjunto de datos original para evitar problemas\n",
    "df_agc_k4 = df.copy()\n",
    "# Se agregan las labels generadas\n",
    "df_agc_k4['cluster'] = cluster_labels\n",
    "df_agc_k4['cluster'].value_counts()"
   ]
  },
  {
   "cell_type": "markdown",
   "metadata": {},
   "source": [
    "MeanShift"
   ]
  },
  {
   "cell_type": "code",
   "execution_count": 12,
   "metadata": {},
   "outputs": [],
   "source": [
    "# Por cada método se debe registrar la ejecución\n",
    "with mlflow.start_run(experiment_id=exp_id, run_name=\"MeanShift\"):\n",
    "    # Selección y configuración de la técnica\n",
    "    modelo_clusters = MeanShift()\n",
    "    \n",
    "    trained_model = modelo_clusters.fit(df)\n",
    "    cluster_labels = trained_model.labels_\n",
    "\n",
    "    # Se realizar el cálculo de las métricas seleccionadas\n",
    "    score_s = silhouette_score(df, cluster_labels)\n",
    "    score_db = davies_bouldin_score(df, cluster_labels)\n",
    "    score_ch = calinski_harabasz_score(df, cluster_labels)\n",
    "\n",
    "    # No hay parámetros por registrar\n",
    "\n",
    "    # Se registran las métricas de evaluación\n",
    "    mlflow.log_metric('silhouette_score', score_s)\n",
    "    mlflow.log_metric('davies_bouldin_score', score_db)\n",
    "    mlflow.log_metric('calinski_harabasz_score', score_ch)\n",
    "\n",
    "    # Se guarda el modelo generado\n",
    "    mlflow.sklearn.log_model(trained_model, \"MS\")\n",
    "\n",
    "    # Se finaliza el registro\n",
    "    mlflow.end_run()"
   ]
  },
  {
   "cell_type": "markdown",
   "metadata": {},
   "source": [
    "Para contabilizar los elementos por cluster se utilizan las labels generadas"
   ]
  },
  {
   "cell_type": "code",
   "execution_count": 13,
   "metadata": {},
   "outputs": [
    {
     "data": {
      "text/plain": [
       "cluster\n",
       "0    8519\n",
       "1     306\n",
       "2      39\n",
       "3      11\n",
       "4       6\n",
       "5       3\n",
       "6       1\n",
       "Name: count, dtype: int64"
      ]
     },
     "execution_count": 13,
     "metadata": {},
     "output_type": "execute_result"
    }
   ],
   "source": [
    "# Se preserva el conjunto de datos original para evitar problemas\n",
    "df_ms = df.copy()\n",
    "# Se agregan las labels generadas\n",
    "df_ms['cluster'] = cluster_labels\n",
    "df_ms['cluster'].value_counts()"
   ]
  },
  {
   "cell_type": "markdown",
   "metadata": {},
   "source": [
    "SpectralClustering"
   ]
  },
  {
   "cell_type": "code",
   "execution_count": 14,
   "metadata": {},
   "outputs": [
    {
     "name": "stderr",
     "output_type": "stream",
     "text": [
      "d:\\DOCUMENTOS\\VIU\\modulos\\13MBID\\actividad1\\13MBID-AP1\\.venv\\Lib\\site-packages\\sklearn\\manifold\\_spectral_embedding.py:301: UserWarning: Graph is not fully connected, spectral embedding may not work as expected.\n",
      "  warnings.warn(\n",
      "d:\\DOCUMENTOS\\VIU\\modulos\\13MBID\\actividad1\\13MBID-AP1\\.venv\\Lib\\site-packages\\sklearn\\base.py:1474: ConvergenceWarning: Number of distinct clusters (2) found smaller than n_clusters (4). Possibly due to duplicate points in X.\n",
      "  return fit_method(estimator, *args, **kwargs)\n",
      "2024/07/21 18:30:11 WARNING mlflow.sklearn: Model was missing function: predict. Not logging python_function flavor!\n"
     ]
    }
   ],
   "source": [
    "# Por cada método se debe registrar la ejecución\n",
    "with mlflow.start_run(experiment_id=exp_id, run_name=\"SpectralClustering K4\"):\n",
    "    # Selección y configuración de la técnica\n",
    "    modelo_clusters = SpectralClustering(n_clusters = 4)\n",
    "    \n",
    "    trained_model = modelo_clusters.fit(df)\n",
    "    cluster_labels = trained_model.labels_\n",
    "\n",
    "    # Se realizar el cálculo de las métricas seleccionadas\n",
    "    score_s = silhouette_score(df, cluster_labels)\n",
    "    score_db = davies_bouldin_score(df, cluster_labels)\n",
    "    score_ch = calinski_harabasz_score(df, cluster_labels)\n",
    "\n",
    "    # No hay parámetros por registrar\n",
    "\n",
    "    # Se registran las métricas de evaluación\n",
    "    mlflow.log_metric('silhouette_score', score_s)\n",
    "    mlflow.log_metric('davies_bouldin_score', score_db)\n",
    "    mlflow.log_metric('calinski_harabasz_score', score_ch)\n",
    "\n",
    "    # Se guarda el modelo generado\n",
    "    mlflow.sklearn.log_model(trained_model, \"SC-k4\")\n",
    "\n",
    "    # Se finaliza el registro\n",
    "    mlflow.end_run()"
   ]
  },
  {
   "cell_type": "code",
   "execution_count": 15,
   "metadata": {},
   "outputs": [
    {
     "data": {
      "text/plain": [
       "cluster\n",
       "0    8883\n",
       "1       2\n",
       "Name: count, dtype: int64"
      ]
     },
     "execution_count": 15,
     "metadata": {},
     "output_type": "execute_result"
    }
   ],
   "source": [
    "# Se preserva el conjunto de datos original para evitar problemas\n",
    "df_sc4 = df.copy()\n",
    "# Se agregan las labels generadas\n",
    "df_sc4['cluster'] = cluster_labels\n",
    "df_sc4['cluster'].value_counts()"
   ]
  },
  {
   "cell_type": "markdown",
   "metadata": {},
   "source": [
    "BisectingKMeans"
   ]
  },
  {
   "cell_type": "code",
   "execution_count": 18,
   "metadata": {},
   "outputs": [],
   "source": [
    "# Por cada método se debe registrar la ejecución\n",
    "with mlflow.start_run(experiment_id=exp_id, run_name=\"BisectingKMeans K=4\"):\n",
    "    # Selección y configuración de la técnica\n",
    "    modelo_clusters = BisectingKMeans(n_clusters = 4)\n",
    "    \n",
    "    trained_model = modelo_clusters.fit(df)\n",
    "    cluster_labels = trained_model.labels_\n",
    "\n",
    "    # Se realizar el cálculo de las métricas seleccionadas\n",
    "    score_s = silhouette_score(df, cluster_labels)\n",
    "    score_db = davies_bouldin_score(df, cluster_labels)\n",
    "    score_ch = calinski_harabasz_score(df, cluster_labels)\n",
    "\n",
    "    # No hay parámetros por registrar\n",
    "\n",
    "    # Se registran las métricas de evaluación\n",
    "    mlflow.log_metric('silhouette_score', score_s)\n",
    "    mlflow.log_metric('davies_bouldin_score', score_db)\n",
    "    mlflow.log_metric('calinski_harabasz_score', score_ch)\n",
    "\n",
    "    # Se guarda el modelo generado\n",
    "    mlflow.sklearn.log_model(trained_model, \"BK-4\")\n",
    "\n",
    "    # Se finaliza el registro\n",
    "    mlflow.end_run()"
   ]
  },
  {
   "cell_type": "code",
   "execution_count": 19,
   "metadata": {},
   "outputs": [
    {
     "data": {
      "text/plain": [
       "cluster\n",
       "1    4229\n",
       "0    4053\n",
       "3     454\n",
       "2     149\n",
       "Name: count, dtype: int64"
      ]
     },
     "execution_count": 19,
     "metadata": {},
     "output_type": "execute_result"
    }
   ],
   "source": [
    "# Se preserva el conjunto de datos original para evitar problemas\n",
    "df_bk4 = df.copy()\n",
    "# Se agregan las labels generadas\n",
    "df_bk4['cluster'] = cluster_labels\n",
    "df_bk4['cluster'].value_counts()"
   ]
  },
  {
   "cell_type": "markdown",
   "metadata": {},
   "source": [
    "### Prueba # 2"
   ]
  },
  {
   "cell_type": "code",
   "execution_count": 20,
   "metadata": {},
   "outputs": [],
   "source": [
    "# Se genera el experimento en mlflow\n",
    "exp_name = 'Experimentación clustering Extra #2'\n",
    "exp_id2 = mlflow.create_experiment(name=exp_name)"
   ]
  },
  {
   "cell_type": "markdown",
   "metadata": {},
   "source": [
    "\n",
    "\n",
    "- Kmeans\n"
   ]
  },
  {
   "cell_type": "code",
   "execution_count": 21,
   "metadata": {},
   "outputs": [],
   "source": [
    "# Por cada método se debe registrar la ejecución\n",
    "with mlflow.start_run(experiment_id=exp_id2, run_name=\"Kmeans - K=6\"):\n",
    "    # Selección y configuración de la técnica\n",
    "    modelo_clusters = KMeans(n_clusters=6)\n",
    "    \n",
    "    trained_model = modelo_clusters.fit(df)\n",
    "    cluster_labels = trained_model.labels_\n",
    "\n",
    "    # Se realizar el cálculo de las métricas seleccionadas\n",
    "    score_s = silhouette_score(df, cluster_labels)\n",
    "    score_db = davies_bouldin_score(df, cluster_labels)\n",
    "    score_ch = calinski_harabasz_score(df, cluster_labels)\n",
    "\n",
    "    # Se registra el parámetro K\n",
    "    mlflow.log_param('Valor K', 6)\n",
    "\n",
    "    # Se registran las métricas de evaluación\n",
    "    mlflow.log_metric('silhouette_score', score_s)\n",
    "    mlflow.log_metric('davies_bouldin_score', score_db)\n",
    "    mlflow.log_metric('calinski_harabasz_score', score_ch)\n",
    "\n",
    "    # Se guarda el modelo generado\n",
    "    mlflow.sklearn.log_model(trained_model, \"Kmeans_K6\")\n",
    "\n",
    "    # Se finaliza el registro\n",
    "    mlflow.end_run()"
   ]
  },
  {
   "cell_type": "code",
   "execution_count": 22,
   "metadata": {},
   "outputs": [
    {
     "data": {
      "text/plain": [
       "cluster\n",
       "1    3557\n",
       "4    3217\n",
       "3     918\n",
       "2     841\n",
       "5     251\n",
       "0     101\n",
       "Name: count, dtype: int64"
      ]
     },
     "execution_count": 22,
     "metadata": {},
     "output_type": "execute_result"
    }
   ],
   "source": [
    "# Se preserva el conjunto de datos original para evitar problemas\n",
    "df_kmeans_k6 = df.copy()\n",
    "# Se agregan las labels generadas\n",
    "df_kmeans_k6['cluster'] = cluster_labels\n",
    "df_kmeans_k6['cluster'].value_counts()"
   ]
  },
  {
   "cell_type": "markdown",
   "metadata": {},
   "source": [
    "- Clustering Jerárquico"
   ]
  },
  {
   "cell_type": "code",
   "execution_count": 23,
   "metadata": {},
   "outputs": [
    {
     "name": "stderr",
     "output_type": "stream",
     "text": [
      "2024/07/21 20:03:42 WARNING mlflow.sklearn: Model was missing function: predict. Not logging python_function flavor!\n"
     ]
    }
   ],
   "source": [
    "# Por cada método se debe registrar la ejecución\n",
    "with mlflow.start_run(experiment_id=exp_id2, run_name=\"AGClustering - K=6\"):\n",
    "    # Selección y configuración de la técnica\n",
    "    modelo_clusters = AgglomerativeClustering(n_clusters=6)\n",
    "    \n",
    "    trained_model = modelo_clusters.fit(df)\n",
    "    cluster_labels = trained_model.labels_\n",
    "\n",
    "    # Se realizar el cálculo de las métricas seleccionadas\n",
    "    score_s = silhouette_score(df, cluster_labels)\n",
    "    score_db = davies_bouldin_score(df, cluster_labels)\n",
    "    score_ch = calinski_harabasz_score(df, cluster_labels)\n",
    "\n",
    "    # Se registra el parámetro K\n",
    "    mlflow.log_param('Valor K', 6)\n",
    "\n",
    "    # Se registran las métricas de evaluación\n",
    "    mlflow.log_metric('silhouette_score', score_s)\n",
    "    mlflow.log_metric('davies_bouldin_score', score_db)\n",
    "    mlflow.log_metric('calinski_harabasz_score', score_ch)\n",
    "\n",
    "    # Se guarda el modelo generado\n",
    "    mlflow.sklearn.log_model(trained_model, \"AGC_K6\")\n",
    "\n",
    "    # Se finaliza el registro\n",
    "    mlflow.end_run()"
   ]
  },
  {
   "cell_type": "code",
   "execution_count": 24,
   "metadata": {},
   "outputs": [
    {
     "data": {
      "text/plain": [
       "cluster\n",
       "4    3576\n",
       "2    3105\n",
       "0    1121\n",
       "5     712\n",
       "1     307\n",
       "3      64\n",
       "Name: count, dtype: int64"
      ]
     },
     "execution_count": 24,
     "metadata": {},
     "output_type": "execute_result"
    }
   ],
   "source": [
    "# Se preserva el conjunto de datos original para evitar problemas\n",
    "df_agc_k6 = df.copy()\n",
    "# Se agregan las labels generadas\n",
    "df_agc_k6['cluster'] = cluster_labels\n",
    "df_agc_k6['cluster'].value_counts()"
   ]
  },
  {
   "cell_type": "code",
   "execution_count": 25,
   "metadata": {},
   "outputs": [],
   "source": [
    "# Por cada método se debe registrar la ejecución\n",
    "with mlflow.start_run(experiment_id=exp_id2, run_name=\"BisectingKMeans K=6\"):\n",
    "    # Selección y configuración de la técnica\n",
    "    modelo_clusters = BisectingKMeans(n_clusters = 6)\n",
    "    \n",
    "    trained_model = modelo_clusters.fit(df)\n",
    "    cluster_labels = trained_model.labels_\n",
    "\n",
    "    # Se realizar el cálculo de las métricas seleccionadas\n",
    "    score_s = silhouette_score(df, cluster_labels)\n",
    "    score_db = davies_bouldin_score(df, cluster_labels)\n",
    "    score_ch = calinski_harabasz_score(df, cluster_labels)\n",
    "  \n",
    "    # Se registra el parámetro K\n",
    "    mlflow.log_param('Valor K', 6)\n",
    "\n",
    "    # Se registran las métricas de evaluación\n",
    "    mlflow.log_metric('silhouette_score', score_s)\n",
    "    mlflow.log_metric('davies_bouldin_score', score_db)\n",
    "    mlflow.log_metric('calinski_harabasz_score', score_ch)\n",
    "\n",
    "    # Se guarda el modelo generado\n",
    "    mlflow.sklearn.log_model(trained_model, \"BK-6\")\n",
    "\n",
    "    # Se finaliza el registro\n",
    "    mlflow.end_run()"
   ]
  },
  {
   "cell_type": "code",
   "execution_count": 26,
   "metadata": {},
   "outputs": [
    {
     "data": {
      "text/plain": [
       "cluster\n",
       "3    3298\n",
       "5    2368\n",
       "4    1861\n",
       "2     755\n",
       "1     454\n",
       "0     149\n",
       "Name: count, dtype: int64"
      ]
     },
     "execution_count": 26,
     "metadata": {},
     "output_type": "execute_result"
    }
   ],
   "source": [
    "# Se preserva el conjunto de datos original para evitar problemas\n",
    "df_bk6 = df.copy()\n",
    "# Se agregan las labels generadas\n",
    "df_bk6['cluster'] = cluster_labels\n",
    "df_bk6['cluster'].value_counts()"
   ]
  },
  {
   "cell_type": "markdown",
   "metadata": {},
   "source": [
    "### Prueba # 3"
   ]
  },
  {
   "cell_type": "code",
   "execution_count": 27,
   "metadata": {},
   "outputs": [],
   "source": [
    "# Se genera el experimento en mlflow\n",
    "exp_name = 'Experimentación clustering Extra #3'\n",
    "exp_id3 = mlflow.create_experiment(name=exp_name)"
   ]
  },
  {
   "cell_type": "code",
   "execution_count": 28,
   "metadata": {},
   "outputs": [],
   "source": [
    "# Por cada método se debe registrar la ejecución\n",
    "with mlflow.start_run(experiment_id=exp_id3, run_name=\"Kmeans - K=8\"):\n",
    "    # Selección y configuración de la técnica\n",
    "    modelo_clusters = KMeans(n_clusters=8)\n",
    "    \n",
    "    trained_model = modelo_clusters.fit(df)\n",
    "    cluster_labels = trained_model.labels_\n",
    "\n",
    "    # Se realizar el cálculo de las métricas seleccionadas\n",
    "    score_s = silhouette_score(df, cluster_labels)\n",
    "    score_db = davies_bouldin_score(df, cluster_labels)\n",
    "    score_ch = calinski_harabasz_score(df, cluster_labels)\n",
    "\n",
    "    # Se registra el parámetro K\n",
    "    mlflow.log_param('Valor K', 8)\n",
    "\n",
    "    # Se registran las métricas de evaluación\n",
    "    mlflow.log_metric('silhouette_score', score_s)\n",
    "    mlflow.log_metric('davies_bouldin_score', score_db)\n",
    "    mlflow.log_metric('calinski_harabasz_score', score_ch)\n",
    "\n",
    "    # Se guarda el modelo generado\n",
    "    mlflow.sklearn.log_model(trained_model, \"Kmeans_K8\")\n",
    "\n",
    "    # Se finaliza el registro\n",
    "    mlflow.end_run()"
   ]
  },
  {
   "cell_type": "code",
   "execution_count": 29,
   "metadata": {},
   "outputs": [
    {
     "data": {
      "text/plain": [
       "cluster\n",
       "7    2711\n",
       "6    2118\n",
       "0    2009\n",
       "2     664\n",
       "5     598\n",
       "3     571\n",
       "1     154\n",
       "4      60\n",
       "Name: count, dtype: int64"
      ]
     },
     "execution_count": 29,
     "metadata": {},
     "output_type": "execute_result"
    }
   ],
   "source": [
    "# Se preserva el conjunto de datos original para evitar problemas\n",
    "df_k8 = df.copy()\n",
    "# Se agregan las labels generadas\n",
    "df_k8['cluster'] = cluster_labels\n",
    "df_k8['cluster'].value_counts()"
   ]
  },
  {
   "cell_type": "code",
   "execution_count": 32,
   "metadata": {},
   "outputs": [],
   "source": [
    "# Por cada método se debe registrar la ejecución\n",
    "with mlflow.start_run(experiment_id=exp_id3, run_name=\"Kmeans - K=3\"):\n",
    "    # Selección y configuración de la técnica\n",
    "    modelo_clusters = KMeans(n_clusters=3)\n",
    "    \n",
    "    trained_model = modelo_clusters.fit(df)\n",
    "    cluster_labels = trained_model.labels_\n",
    "\n",
    "    # Se realizar el cálculo de las métricas seleccionadas\n",
    "    score_s = silhouette_score(df, cluster_labels)\n",
    "    score_db = davies_bouldin_score(df, cluster_labels)\n",
    "    score_ch = calinski_harabasz_score(df, cluster_labels)\n",
    "\n",
    "    # Se registra el parámetro K\n",
    "    mlflow.log_param('Valor K', 3)\n",
    "\n",
    "    # Se registran las métricas de evaluación\n",
    "    mlflow.log_metric('silhouette_score', score_s)\n",
    "    mlflow.log_metric('davies_bouldin_score', score_db)\n",
    "    mlflow.log_metric('calinski_harabasz_score', score_ch)\n",
    "\n",
    "    # Se guarda el modelo generado\n",
    "    mlflow.sklearn.log_model(trained_model, \"Kmeans_K3\")\n",
    "\n",
    "    # Se finaliza el registro\n",
    "    mlflow.end_run()"
   ]
  },
  {
   "cell_type": "code",
   "execution_count": 33,
   "metadata": {},
   "outputs": [
    {
     "data": {
      "text/plain": [
       "cluster\n",
       "2    4701\n",
       "0    3878\n",
       "1     306\n",
       "Name: count, dtype: int64"
      ]
     },
     "execution_count": 33,
     "metadata": {},
     "output_type": "execute_result"
    }
   ],
   "source": [
    "# Se preserva el conjunto de datos original para evitar problemas\n",
    "df_k3 = df.copy()\n",
    "# Se agregan las labels generadas\n",
    "df_k3['cluster'] = cluster_labels\n",
    "df_k3['cluster'].value_counts()"
   ]
  },
  {
   "cell_type": "markdown",
   "metadata": {},
   "source": [
    "Con las metricas comparadas en mlfow Kmeans con 3 clusters tiene mejor evaluación"
   ]
  },
  {
   "cell_type": "code",
   "execution_count": 36,
   "metadata": {},
   "outputs": [],
   "source": [
    "df_k3.to_csv(\"../../../data/final/resultados_kmeans_k3-p3.csv\", sep=\";\", index=False)"
   ]
  },
  {
   "cell_type": "code",
   "execution_count": 30,
   "metadata": {},
   "outputs": [],
   "source": [
    "# Por cada método se debe registrar la ejecución\n",
    "with mlflow.start_run(experiment_id=exp_id3, run_name=\"BisectingKMeans K=8\"):\n",
    "    # Selección y configuración de la técnica\n",
    "    modelo_clusters = BisectingKMeans(n_clusters = 8)\n",
    "    \n",
    "    trained_model = modelo_clusters.fit(df)\n",
    "    cluster_labels = trained_model.labels_\n",
    "\n",
    "    # Se realizar el cálculo de las métricas seleccionadas\n",
    "    score_s = silhouette_score(df, cluster_labels)\n",
    "    score_db = davies_bouldin_score(df, cluster_labels)\n",
    "    score_ch = calinski_harabasz_score(df, cluster_labels)\n",
    "  \n",
    "    # Se registra el parámetro K\n",
    "    mlflow.log_param('Valor K', 8)\n",
    "\n",
    "    # Se registran las métricas de evaluación\n",
    "    mlflow.log_metric('silhouette_score', score_s)\n",
    "    mlflow.log_metric('davies_bouldin_score', score_db)\n",
    "    mlflow.log_metric('calinski_harabasz_score', score_ch)\n",
    "\n",
    "    # Se guarda el modelo generado\n",
    "    mlflow.sklearn.log_model(trained_model, \"BK-8\")\n",
    "\n",
    "    # Se finaliza el registro\n",
    "    mlflow.end_run()"
   ]
  },
  {
   "cell_type": "code",
   "execution_count": 31,
   "metadata": {},
   "outputs": [
    {
     "data": {
      "text/plain": [
       "cluster\n",
       "3    2675\n",
       "2    2538\n",
       "1    1129\n",
       "4     759\n",
       "5     619\n",
       "0     562\n",
       "6     454\n",
       "7     149\n",
       "Name: count, dtype: int64"
      ]
     },
     "execution_count": 31,
     "metadata": {},
     "output_type": "execute_result"
    }
   ],
   "source": [
    "# Se preserva el conjunto de datos original para evitar problemas\n",
    "df_bk8 = df.copy()\n",
    "# Se agregan las labels generadas\n",
    "df_bk8['cluster'] = cluster_labels\n",
    "df_bk8['cluster'].value_counts()"
   ]
  },
  {
   "cell_type": "code",
   "execution_count": 37,
   "metadata": {},
   "outputs": [],
   "source": [
    "# Por cada método se debe registrar la ejecución\n",
    "with mlflow.start_run(experiment_id=exp_id3, run_name=\"BisectingKMeans K=3\"):\n",
    "    # Selección y configuración de la técnica\n",
    "    modelo_clusters = BisectingKMeans(n_clusters = 3)\n",
    "    \n",
    "    trained_model = modelo_clusters.fit(df)\n",
    "    cluster_labels = trained_model.labels_\n",
    "\n",
    "    # Se realizar el cálculo de las métricas seleccionadas\n",
    "    score_s = silhouette_score(df, cluster_labels)\n",
    "    score_db = davies_bouldin_score(df, cluster_labels)\n",
    "    score_ch = calinski_harabasz_score(df, cluster_labels)\n",
    "  \n",
    "    # Se registra el parámetro K\n",
    "    mlflow.log_param('Valor K', 3)\n",
    "\n",
    "    # Se registran las métricas de evaluación\n",
    "    mlflow.log_metric('silhouette_score', score_s)\n",
    "    mlflow.log_metric('davies_bouldin_score', score_db)\n",
    "    mlflow.log_metric('calinski_harabasz_score', score_ch)\n",
    "\n",
    "    # Se guarda el modelo generado\n",
    "    mlflow.sklearn.log_model(trained_model, \"BK-3\")\n",
    "\n",
    "    # Se finaliza el registro\n",
    "    mlflow.end_run()"
   ]
  },
  {
   "cell_type": "code",
   "execution_count": 39,
   "metadata": {},
   "outputs": [
    {
     "data": {
      "text/plain": [
       "cluster\n",
       "2    4229\n",
       "1    4053\n",
       "0     603\n",
       "Name: count, dtype: int64"
      ]
     },
     "execution_count": 39,
     "metadata": {},
     "output_type": "execute_result"
    }
   ],
   "source": [
    "# Se preserva el conjunto de datos original para evitar problemas\n",
    "df_bk3 = df.copy()\n",
    "# Se agregan las labels generadas\n",
    "df_bk3['cluster'] = cluster_labels\n",
    "df_bk3['cluster'].value_counts()"
   ]
  }
 ],
 "metadata": {
  "kernelspec": {
   "display_name": "huemul",
   "language": "python",
   "name": "python3"
  },
  "language_info": {
   "codemirror_mode": {
    "name": "ipython",
    "version": 3
   },
   "file_extension": ".py",
   "mimetype": "text/x-python",
   "name": "python",
   "nbconvert_exporter": "python",
   "pygments_lexer": "ipython3",
   "version": "3.12.3"
  }
 },
 "nbformat": 4,
 "nbformat_minor": 2
}
